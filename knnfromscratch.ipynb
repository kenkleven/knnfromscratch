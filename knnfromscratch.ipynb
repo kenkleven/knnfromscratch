{
 "cells": [
  {
   "cell_type": "code",
   "execution_count": 12,
   "id": "7828d41d",
   "metadata": {},
   "outputs": [],
   "source": [
    "import numpy as np\n",
    "from knnfromscratch import KNNClassifier, KNNRegressor\n",
    "from sklearn.datasets import make_regression\n",
    "from sklearn.datasets import make_classification\n",
    "from sklearn.model_selection import train_test_split"
   ]
  },
  {
   "cell_type": "markdown",
   "id": "ffde3676",
   "metadata": {},
   "source": [
    "# classification"
   ]
  },
  {
   "cell_type": "code",
   "execution_count": 13,
   "id": "fe698693",
   "metadata": {},
   "outputs": [],
   "source": [
    "X_train = np.array([[1, 2], [2, 3], [3, 4], [6, 7], [7, 8]])\n",
    "y_train = np.array([0, 0, 0, 1, 1])\n",
    "\n",
    "\n",
    "X_test = np.array([[5, 5], [1, 1]])\n",
    "y_test = [1, 0]"
   ]
  },
  {
   "cell_type": "code",
   "execution_count": 14,
   "id": "86d6b177",
   "metadata": {},
   "outputs": [],
   "source": [
    "model = KNNClassifier()\n",
    "model.fit(X_train, y_train)"
   ]
  },
  {
   "cell_type": "code",
   "execution_count": 15,
   "id": "e6e284de",
   "metadata": {},
   "outputs": [],
   "source": [
    "y_pred = model.predict(X_test)"
   ]
  },
  {
   "cell_type": "code",
   "execution_count": 16,
   "id": "48ac82e3",
   "metadata": {},
   "outputs": [
    {
     "name": "stdout",
     "output_type": "stream",
     "text": [
      "Predictions : [0, 0]\n",
      "Accuracy : 0.5\n",
      "Precision : 0.0\n",
      "Recall : 0.0\n",
      "F1 Score : 0.0\n"
     ]
    }
   ],
   "source": [
    "print(\"Predictions :\", y_pred)\n",
    "print(\"Accuracy :\", model.accuracy(y_test, y_pred))\n",
    "print(\"Precision :\", model.precision(y_test, y_pred, positive_class=1))\n",
    "print(\"Recall :\", model.recall(y_test, y_pred, positive_class=1))\n",
    "print(\"F1 Score :\", model.f1_score(y_test, y_pred, positive_class=1))"
   ]
  },
  {
   "cell_type": "code",
   "execution_count": 17,
   "id": "79343473",
   "metadata": {},
   "outputs": [],
   "source": [
    "X, y = make_classification(n_samples=100, n_features=2, n_redundant=0,\n",
    "                           n_informative=2, n_clusters_per_class=1,\n",
    "                           random_state=42)\n",
    "\n",
    "X_train, X_test, y_train, y_test = train_test_split(X, y, test_size=0.2, random_state=42)\n"
   ]
  },
  {
   "cell_type": "code",
   "execution_count": 18,
   "id": "db086bb4",
   "metadata": {},
   "outputs": [],
   "source": [
    "model = KNNClassifier(k=3)\n",
    "model.fit(X_train, y_train)"
   ]
  },
  {
   "cell_type": "code",
   "execution_count": 19,
   "id": "b984f4e0",
   "metadata": {},
   "outputs": [],
   "source": [
    "y_pred = model.predict(X_test)"
   ]
  },
  {
   "cell_type": "code",
   "execution_count": 20,
   "id": "17eaaf9c",
   "metadata": {},
   "outputs": [
    {
     "name": "stdout",
     "output_type": "stream",
     "text": [
      "Accuracy : 1.0\n",
      "Precision : 1.0\n",
      "Recall : 1.0\n",
      "F1 Score : 1.0\n"
     ]
    }
   ],
   "source": [
    "print(\"Accuracy :\", model.accuracy(y_test, y_pred))\n",
    "print(\"Precision :\", model.precision(y_test, y_pred, positive_class=1))\n",
    "print(\"Recall :\", model.recall(y_test, y_pred, positive_class=1))\n",
    "print(\"F1 Score :\", model.f1_score(y_test, y_pred, positive_class=1))"
   ]
  },
  {
   "cell_type": "markdown",
   "id": "5318cfde",
   "metadata": {},
   "source": [
    "# regression"
   ]
  },
  {
   "cell_type": "code",
   "execution_count": 21,
   "id": "a03816f4",
   "metadata": {},
   "outputs": [],
   "source": [
    "X, y = make_regression(n_samples=100, n_features=1, noise=10, random_state=42)\n",
    "X_train, X_test, y_train, y_test = train_test_split(X, y, test_size=0.2, random_state=42)\n"
   ]
  },
  {
   "cell_type": "code",
   "execution_count": 22,
   "id": "bfd1ac43",
   "metadata": {},
   "outputs": [],
   "source": [
    "model = KNNRegressor(k=5)\n",
    "model.fit(X_train, y_train)"
   ]
  },
  {
   "cell_type": "code",
   "execution_count": 23,
   "id": "67d1922b",
   "metadata": {},
   "outputs": [],
   "source": [
    "y_pred = model.predict(X_test)"
   ]
  },
  {
   "cell_type": "code",
   "execution_count": 24,
   "id": "c4d28626",
   "metadata": {},
   "outputs": [
    {
     "name": "stdout",
     "output_type": "stream",
     "text": [
      "MSE: 108.14198878074414\n",
      "MAE: 8.674020556387939\n",
      "R2 Score: 0.9350489024280596\n"
     ]
    }
   ],
   "source": [
    "print(\"MSE:\", model.mean_squared_error(y_test, y_pred))\n",
    "print(\"MAE:\", model.mean_absolute_error(y_test, y_pred))\n",
    "print(\"R2 Score:\", model.r2_score(y_test, y_pred))"
   ]
  }
 ],
 "metadata": {
  "kernelspec": {
   "display_name": "Python 3",
   "language": "python",
   "name": "python3"
  },
  "language_info": {
   "codemirror_mode": {
    "name": "ipython",
    "version": 3
   },
   "file_extension": ".py",
   "mimetype": "text/x-python",
   "name": "python",
   "nbconvert_exporter": "python",
   "pygments_lexer": "ipython3",
   "version": "3.10.11"
  }
 },
 "nbformat": 4,
 "nbformat_minor": 5
}
